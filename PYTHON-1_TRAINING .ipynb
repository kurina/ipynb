{
 "cells": [
  {
   "cell_type": "markdown",
   "metadata": {
    "slideshow": {
     "slide_type": "fragment"
    }
   },
   "source": [
    "   >>># PYTHON I.\n",
    "   # GOPAS SR, a.s.\n",
    "   ## Ing. Tibor Kurina, Ph.D.\n",
    "   ## kurina@gopas.sk"
   ]
  },
  {
   "cell_type": "markdown",
   "metadata": {},
   "source": [
    ">1. Čo je Python\n",
    "2. Inštalácia\n",
    "3. Dokumentácia \n",
    "4. Python <> iPython <> pip <> Anaconda <> Pandas a ostatný\n",
    "5. PYthon Package Index https://pypi.python.org/pypi\n"
   ]
  },
  {
   "cell_type": "code",
   "execution_count": null,
   "metadata": {
    "collapsed": false
   },
   "outputs": [],
   "source": [
    "import this"
   ]
  },
  {
   "cell_type": "markdown",
   "metadata": {
    "slideshow": {
     "slide_type": "slide"
    }
   },
   "source": [
    "## Dátové typy"
   ]
  },
  {
   "cell_type": "markdown",
   "metadata": {
    "slideshow": {
     "slide_type": "subslide"
    }
   },
   "source": [
    "INTEGER"
   ]
  },
  {
   "cell_type": "raw",
   "metadata": {
    "raw_mimetype": "text/x-python",
    "slideshow": {
     "slide_type": "subslide"
    }
   },
   "source": [
    "a=5\n",
    "print a\n",
    "type(a)"
   ]
  },
  {
   "cell_type": "markdown",
   "metadata": {
    "slideshow": {
     "slide_type": "subslide"
    }
   },
   "source": [
    "FLOAT"
   ]
  },
  {
   "cell_type": "raw",
   "metadata": {},
   "source": [
    "pi=3.14159265\n",
    "pi\n",
    "type(pi)"
   ]
  },
  {
   "cell_type": "markdown",
   "metadata": {
    "slideshow": {
     "slide_type": "slide"
    }
   },
   "source": [
    "STRING"
   ]
  },
  {
   "cell_type": "raw",
   "metadata": {},
   "source": [
    "r='GOPAS'\n",
    "print r\n",
    "type(r)"
   ]
  },
  {
   "cell_type": "markdown",
   "metadata": {
    "slideshow": {
     "slide_type": "slide"
    }
   },
   "source": [
    "LIST - ZOZNAM - [ ]"
   ]
  },
  {
   "cell_type": "raw",
   "metadata": {},
   "source": [
    "pole=[1,2,3,4.5,'r',r]\n",
    "pole"
   ]
  },
  {
   "cell_type": "markdown",
   "metadata": {},
   "source": [
    ">Funkcie pre prácu s polom"
   ]
  },
  {
   "cell_type": "markdown",
   "metadata": {},
   "source": [
    "TUPLES - KONŠTANTNÝ ZOZNAM - ( )"
   ]
  },
  {
   "cell_type": "raw",
   "metadata": {},
   "source": [
    "konst_pole_1=(3,5,7.7,pi,a,'alfa')\n",
    "konst_pole_2=3,4,5,9.9,'beta'"
   ]
  },
  {
   "cell_type": "markdown",
   "metadata": {},
   "source": [
    "DICTIONARY/DICT  - ASOCIATÍVNE POLE - { } "
   ]
  },
  {
   "cell_type": "raw",
   "metadata": {},
   "source": [
    "asc_pole_1={'alfa':2,'beta':7,'delta':89}\n",
    "asc_pole_2={\n",
    "...      'gama':'a je tu',\n",
    "...      'omega':'koniec',\n",
    "...      'zeta':99\n",
    "}\n",
    "asc_pole_1.update(asc_pole_2)\n"
   ]
  },
  {
   "cell_type": "markdown",
   "metadata": {},
   "source": [
    ">Funkcie pre prácu s DICT"
   ]
  },
  {
   "cell_type": "markdown",
   "metadata": {},
   "source": [
    "SET - MNOŽINA - { }"
   ]
  },
  {
   "cell_type": "raw",
   "metadata": {},
   "source": [
    "h1={'alfa','beta','gama','delta'}\n",
    "set(pole)\n",
    "set(asc_pole_1)"
   ]
  },
  {
   "cell_type": "markdown",
   "metadata": {},
   "source": [
    "## Komplexné dátové štruktúry"
   ]
  },
  {
   "cell_type": "markdown",
   "metadata": {},
   "source": [
    "majme polia :"
   ]
  },
  {
   "cell_type": "raw",
   "metadata": {},
   "source": [
    "marxes = ['Groucho', 'Chico', 'Harpo']\n",
    "pythons = ['Chapman', 'Cleese', 'Gilliam', 'Jones', 'Palin']\n",
    "stooges = ['Moe', 'Curly', 'Larry']\n"
   ]
  },
  {
   "cell_type": "markdown",
   "metadata": {},
   "source": [
    "tuple-poli"
   ]
  },
  {
   "cell_type": "raw",
   "metadata": {},
   "source": [
    "tp=marxes,pythons,stooges"
   ]
  },
  {
   "cell_type": "markdown",
   "metadata": {},
   "source": [
    "pole-poli"
   ]
  },
  {
   "cell_type": "raw",
   "metadata": {},
   "source": [
    "pp=[marxes,pythons,stooges]"
   ]
  },
  {
   "cell_type": "markdown",
   "metadata": {},
   "source": [
    "dict-poli"
   ]
  },
  {
   "cell_type": "raw",
   "metadata": {},
   "source": [
    "dp={'prvy':marxes,'druhy':pythons,'treti':stooges}"
   ]
  },
  {
   "cell_type": "markdown",
   "metadata": {},
   "source": [
    "dict kde kluc je tuple POZOR ! Len tuple može byť kľúč asociatívneho poľa - PREČO? :)"
   ]
  },
  {
   "cell_type": "raw",
   "metadata": {},
   "source": [
    "houses = {\n",
    "(44.79, -93.14, 285): 'My House',\n",
    "(38.89, -77.03, 13): 'The White House'\n",
    "}"
   ]
  },
  {
   "cell_type": "markdown",
   "metadata": {
    "raw_mimetype": "text/markdown"
   },
   "source": [
    "## Základné programátorské konštrukcie :"
   ]
  },
  {
   "cell_type": "markdown",
   "metadata": {},
   "source": [
    "Cyklus : for"
   ]
  },
  {
   "cell_type": "code",
   "execution_count": null,
   "metadata": {
    "collapsed": false
   },
   "outputs": [],
   "source": [
    "for i in 5,4,3,2,1,\"Gooooo....\":\n",
    "\tprint i\n"
   ]
  },
  {
   "cell_type": "markdown",
   "metadata": {},
   "source": [
    "Cyklus : while "
   ]
  },
  {
   "cell_type": "code",
   "execution_count": null,
   "metadata": {
    "collapsed": false
   },
   "outputs": [],
   "source": [
    "count=0\n",
    "while count <= 5:\n",
    "    print(count)\n",
    "    count += 1"
   ]
  },
  {
   "cell_type": "markdown",
   "metadata": {},
   "source": [
    "Podmienka : if-elif-else"
   ]
  },
  {
   "cell_type": "code",
   "execution_count": null,
   "metadata": {
    "collapsed": false
   },
   "outputs": [],
   "source": [
    "color = \"black\"\n",
    "if color == \"red\":\n",
    "    print(\"It's a tomato\")\n",
    "elif color == \"green\":\n",
    "    print(\"It's a green pepper\")\n",
    "elif color == \"bee purple\":\n",
    "    print(\"I don't know what it is, but only bees can see it\")\n",
    "else:\n",
    "    print(\"I've never heard of the color\", color)"
   ]
  },
  {
   "cell_type": "markdown",
   "metadata": {},
   "source": [
    "<bSpracovanie štandardného vstupu"
   ]
  },
  {
   "cell_type": "raw",
   "metadata": {},
   "source": [
    "vstup=raw_input(\"Zadaj vstup :\")"
   ]
  },
  {
   "cell_type": "markdown",
   "metadata": {},
   "source": [
    "Formátovaný výstup"
   ]
  },
  {
   "cell_type": "markdown",
   "metadata": {},
   "source": [
    "# Cvičenie"
   ]
  },
  {
   "cell_type": "markdown",
   "metadata": {},
   "source": [
    ">1.Napíšte program, ktorý na základe užívateľského vstupu, vráti záznam pracovníka"
   ]
  },
  {
   "cell_type": "raw",
   "metadata": {},
   "source": [
    "\n",
    "Meno         Priezvisko      Tel         Funkcia\n",
    "================================================\n",
    "Peter        Novy            2312        prog\n",
    "Jan          Stary           4556        admin\n",
    "Fero         Velky           2345        sales\n",
    "Eva          Krasna          5678        mgmt\n",
    "Katka        Pekna           9876        mgmt"
   ]
  },
  {
   "cell_type": "markdown",
   "metadata": {},
   "source": [
    ">2.Napíšte program, ktorý na z užívateľského vstupu vyhodnotí, ktoré slovo bolo koľkokrát zadané"
   ]
  },
  {
   "cell_type": "code",
   "execution_count": null,
   "metadata": {
    "collapsed": true
   },
   "outputs": [],
   "source": []
  }
 ],
 "metadata": {
  "kernelspec": {
   "display_name": "Python 2",
   "language": "python",
   "name": "python2"
  },
  "language_info": {
   "codemirror_mode": {
    "name": "ipython",
    "version": 2
   },
   "file_extension": ".py",
   "mimetype": "text/x-python",
   "name": "python",
   "nbconvert_exporter": "python",
   "pygments_lexer": "ipython2",
   "version": "2.7.10"
  }
 },
 "nbformat": 4,
 "nbformat_minor": 0
}
